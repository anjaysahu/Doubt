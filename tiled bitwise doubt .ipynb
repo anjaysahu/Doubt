{
 "cells": [
  {
   "cell_type": "code",
   "execution_count": 24,
   "id": "af14ba01-169d-491a-ae2f-67a1b632724b",
   "metadata": {},
   "outputs": [
    {
     "data": {
      "text/plain": [
       "-21"
      ]
     },
     "execution_count": 24,
     "metadata": {},
     "output_type": "execute_result"
    }
   ],
   "source": [
    "~20"
   ]
  },
  {
   "cell_type": "code",
   "execution_count": 8,
   "id": "bbd23733-cb1e-49da-90f6-7aa5d4b04a7f",
   "metadata": {},
   "outputs": [
    {
     "data": {
      "text/plain": [
       "'0b10100'"
      ]
     },
     "execution_count": 8,
     "metadata": {},
     "output_type": "execute_result"
    }
   ],
   "source": [
    "bin(20)   # sir ne jo bataya tiled mein  -(10100+1)  karne perye ayega  -10101  aur ye binary number -21  ka hai isliye -21 aayega"
   ]
  },
  {
   "cell_type": "code",
   "execution_count": 6,
   "id": "ca723cab-e13f-4d1f-a6cb-f8abca98d68c",
   "metadata": {},
   "outputs": [
    {
     "data": {
      "text/plain": [
       "'-0b10101'"
      ]
     },
     "execution_count": 6,
     "metadata": {},
     "output_type": "execute_result"
    }
   ],
   "source": [
    "bin(-21)"
   ]
  },
  {
   "cell_type": "code",
   "execution_count": 9,
   "id": "45b4d185-f3aa-4a50-b5d9-5a4c13ad91e6",
   "metadata": {},
   "outputs": [
    {
     "data": {
      "text/plain": [
       "-22"
      ]
     },
     "execution_count": 9,
     "metadata": {},
     "output_type": "execute_result"
    }
   ],
   "source": [
    "~21"
   ]
  },
  {
   "cell_type": "code",
   "execution_count": 12,
   "id": "fb8e5089-6cde-4616-9034-7ae45a19c8dd",
   "metadata": {},
   "outputs": [
    {
     "data": {
      "text/plain": [
       "'0b10101'"
      ]
     },
     "execution_count": 12,
     "metadata": {},
     "output_type": "execute_result"
    }
   ],
   "source": [
    "bin(21)  # per ynha pe 21 ka bin num 10101 hai matlab last mein 1 hai to -(10101+1) karne per to  -10102  ho raha\n",
    "         # aur aa araha hai -22 aur binary mein sirf 0,1 hota hai to ynha pe ye kaise ho raha hai"
   ]
  },
  {
   "cell_type": "code",
   "execution_count": 13,
   "id": "4e027e78-380b-4abe-88d9-d907dcbe4adb",
   "metadata": {},
   "outputs": [
    {
     "data": {
      "text/plain": [
       "'-0b10110'"
      ]
     },
     "execution_count": 13,
     "metadata": {},
     "output_type": "execute_result"
    }
   ],
   "source": [
    "bin(-22)"
   ]
  },
  {
   "cell_type": "code",
   "execution_count": 14,
   "id": "70f7b527-8c46-45b6-83ca-f709e5de216a",
   "metadata": {},
   "outputs": [
    {
     "data": {
      "text/plain": [
       "-2"
      ]
     },
     "execution_count": 14,
     "metadata": {},
     "output_type": "execute_result"
    }
   ],
   "source": [
    "~1"
   ]
  },
  {
   "cell_type": "code",
   "execution_count": 17,
   "id": "ed41152d-f706-4e45-a395-a0bd6c36b11a",
   "metadata": {},
   "outputs": [
    {
     "data": {
      "text/plain": [
       "'0b1'"
      ]
     },
     "execution_count": 17,
     "metadata": {},
     "output_type": "execute_result"
    }
   ],
   "source": [
    "bin(1) # ynha bhi -(1+1) = 2 hota hai aur aa raha hai -2  jabki -2 ka binary -10 hota hai"
   ]
  },
  {
   "cell_type": "code",
   "execution_count": 18,
   "id": "607b6d15-bd15-4618-8a5f-4708e85058fc",
   "metadata": {},
   "outputs": [
    {
     "data": {
      "text/plain": [
       "'-0b10'"
      ]
     },
     "execution_count": 18,
     "metadata": {},
     "output_type": "execute_result"
    }
   ],
   "source": [
    "bin(-2)"
   ]
  },
  {
   "cell_type": "code",
   "execution_count": 19,
   "id": "fc3825f7-e8d5-4589-9707-8d8ea65c260f",
   "metadata": {},
   "outputs": [
    {
     "data": {
      "text/plain": [
       "-16"
      ]
     },
     "execution_count": 19,
     "metadata": {},
     "output_type": "execute_result"
    }
   ],
   "source": [
    "~15"
   ]
  },
  {
   "cell_type": "code",
   "execution_count": 22,
   "id": "305902ab-6cfa-4926-ae9c-643455a8b9f7",
   "metadata": {},
   "outputs": [
    {
     "data": {
      "text/plain": [
       "'0b1111'"
      ]
     },
     "execution_count": 22,
     "metadata": {},
     "output_type": "execute_result"
    }
   ],
   "source": [
    "bin(15) # ynha pe bhi -(1111+1) = -1112 ho raha hai aur aa raha hai -16 kaise "
   ]
  },
  {
   "cell_type": "code",
   "execution_count": 23,
   "id": "20616efe-1d60-4780-93d4-4fbd49a5cc1d",
   "metadata": {},
   "outputs": [
    {
     "data": {
      "text/plain": [
       "'-0b10000'"
      ]
     },
     "execution_count": 23,
     "metadata": {},
     "output_type": "execute_result"
    }
   ],
   "source": [
    "bin(-16)"
   ]
  },
  {
   "cell_type": "code",
   "execution_count": null,
   "id": "19b2325a-ca2b-488f-90cc-e526bd3dda77",
   "metadata": {},
   "outputs": [],
   "source": []
  }
 ],
 "metadata": {
  "kernelspec": {
   "display_name": "Python 3 (ipykernel)",
   "language": "python",
   "name": "python3"
  },
  "language_info": {
   "codemirror_mode": {
    "name": "ipython",
    "version": 3
   },
   "file_extension": ".py",
   "mimetype": "text/x-python",
   "name": "python",
   "nbconvert_exporter": "python",
   "pygments_lexer": "ipython3",
   "version": "3.10.8"
  }
 },
 "nbformat": 4,
 "nbformat_minor": 5
}
